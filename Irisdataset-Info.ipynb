{
 "cells": [
  {
   "cell_type": "markdown",
   "metadata": {
    "_cell_guid": "a6f5e4ba-5d3b-47bf-8fef-0400af6e7d93",
    "_execution_state": "idle",
    "_uuid": "3c30ccab5dba1f70dcfd09ca58abda68be0dfdfb",
    "cell_id": "42975469b31048e0ad1a49551d3e90c1",
    "deepnote_cell_type": "markdown"
   },
   "source": [
    "# IA y Machine Learning\n",
    "### by: Daniel Rodríguez Amezaga"
   ]
  },
  {
   "cell_type": "markdown",
   "metadata": {},
   "source": [
    "## Required libraries:"
   ]
  },
  {
   "cell_type": "code",
   "execution_count": 1,
   "metadata": {
    "_cell_guid": "6069a15c-95ce-4f7c-b3d2-daa8cf6f72d6",
    "_execution_state": "idle",
    "_uuid": "a48cde050b68c980f0e79a9f94b37a435af6ce04",
    "cell_id": "65c32c38a4b848099baa8a546dbf2243",
    "deepnote_cell_type": "code"
   },
   "outputs": [],
   "source": [
    "import pandas as pd # Para trabajar con el dataset\n",
    "import matplotlib # para hacer gráficas\n",
    "from matplotlib import pyplot as plt"
   ]
  },
  {
   "cell_type": "markdown",
   "metadata": {
    "_cell_guid": "ad66bd60-be2e-43d1-9b6b-3fc51311618f",
    "_execution_state": "idle",
    "_uuid": "e88f72bb9560508453edda607f86abbc31389c93",
    "cell_id": "a8bb3083d68d4958aea2c39f5ad7a5ef",
    "deepnote_cell_type": "markdown"
   },
   "source": [
    "# Description of the data\n",
    "##### Describe the database: information, variables or attributes, target variable and number of patterns per class."
   ]
  },
  {
   "cell_type": "markdown",
   "metadata": {},
   "source": [
    "##### First I load the dataset available at :\n",
    "##### https://gist.github.com/netj/8836201\n",
    "##### I then display the first 5 rows of the dataset to obtain information such as the name of the columns and their content, at first glance there is still much to describe and ensure, such as the type of data."
   ]
  },
  {
   "cell_type": "code",
   "execution_count": 2,
   "metadata": {
    "_cell_guid": "e5b1e4a3-b5f6-4027-be9a-d68cfb89415b",
    "_execution_state": "idle",
    "_uuid": "f35d8dfcece95e8363a0df70262722b1974da274",
    "cell_id": "b66c2710fb4345838e1844b49127826c",
    "deepnote_cell_type": "code"
   },
   "outputs": [
    {
     "data": {
      "text/html": [
       "<div>\n",
       "<style scoped>\n",
       "    .dataframe tbody tr th:only-of-type {\n",
       "        vertical-align: middle;\n",
       "    }\n",
       "\n",
       "    .dataframe tbody tr th {\n",
       "        vertical-align: top;\n",
       "    }\n",
       "\n",
       "    .dataframe thead th {\n",
       "        text-align: right;\n",
       "    }\n",
       "</style>\n",
       "<table border=\"1\" class=\"dataframe\">\n",
       "  <thead>\n",
       "    <tr style=\"text-align: right;\">\n",
       "      <th></th>\n",
       "      <th>sepal.length</th>\n",
       "      <th>sepal.width</th>\n",
       "      <th>petal.length</th>\n",
       "      <th>petal.width</th>\n",
       "      <th>variety</th>\n",
       "    </tr>\n",
       "  </thead>\n",
       "  <tbody>\n",
       "    <tr>\n",
       "      <th>0</th>\n",
       "      <td>5.1</td>\n",
       "      <td>3.5</td>\n",
       "      <td>1.4</td>\n",
       "      <td>0.2</td>\n",
       "      <td>Setosa</td>\n",
       "    </tr>\n",
       "    <tr>\n",
       "      <th>1</th>\n",
       "      <td>4.9</td>\n",
       "      <td>3.0</td>\n",
       "      <td>1.4</td>\n",
       "      <td>0.2</td>\n",
       "      <td>Setosa</td>\n",
       "    </tr>\n",
       "    <tr>\n",
       "      <th>2</th>\n",
       "      <td>4.7</td>\n",
       "      <td>3.2</td>\n",
       "      <td>1.3</td>\n",
       "      <td>0.2</td>\n",
       "      <td>Setosa</td>\n",
       "    </tr>\n",
       "    <tr>\n",
       "      <th>3</th>\n",
       "      <td>4.6</td>\n",
       "      <td>3.1</td>\n",
       "      <td>1.5</td>\n",
       "      <td>0.2</td>\n",
       "      <td>Setosa</td>\n",
       "    </tr>\n",
       "    <tr>\n",
       "      <th>4</th>\n",
       "      <td>5.0</td>\n",
       "      <td>3.6</td>\n",
       "      <td>1.4</td>\n",
       "      <td>0.2</td>\n",
       "      <td>Setosa</td>\n",
       "    </tr>\n",
       "  </tbody>\n",
       "</table>\n",
       "</div>"
      ],
      "text/plain": [
       "   sepal.length  sepal.width  petal.length  petal.width variety\n",
       "0           5.1          3.5           1.4          0.2  Setosa\n",
       "1           4.9          3.0           1.4          0.2  Setosa\n",
       "2           4.7          3.2           1.3          0.2  Setosa\n",
       "3           4.6          3.1           1.5          0.2  Setosa\n",
       "4           5.0          3.6           1.4          0.2  Setosa"
      ]
     },
     "execution_count": 2,
     "metadata": {},
     "output_type": "execute_result"
    }
   ],
   "source": [
    "df = pd.read_csv(\"iris.csv\")\n",
    "df.head()"
   ]
  },
  {
   "cell_type": "markdown",
   "metadata": {},
   "source": [
    "## Columns names:"
   ]
  },
  {
   "cell_type": "code",
   "execution_count": 6,
   "metadata": {},
   "outputs": [
    {
     "name": "stdout",
     "output_type": "stream",
     "text": [
      "Columns names: Index(['sepal.length', 'sepal.width', 'petal.length', 'petal.width',\n",
      "       'variety'],\n",
      "      dtype='object')\n"
     ]
    }
   ],
   "source": [
    "print('Columns names:',df.columns)"
   ]
  },
  {
   "cell_type": "markdown",
   "metadata": {},
   "source": [
    "## Number of rows and columns"
   ]
  },
  {
   "cell_type": "code",
   "execution_count": 7,
   "metadata": {},
   "outputs": [
    {
     "name": "stdout",
     "output_type": "stream",
     "text": [
      "number of rows and columns: (150, 5)\n"
     ]
    }
   ],
   "source": [
    "print('number of rows and columns:',df.shape)"
   ]
  },
  {
   "cell_type": "markdown",
   "metadata": {},
   "source": [
    "### Using \"dtypes\" I can know the type of data I am working with.\n",
    "#### I can see that I have the measures of the petals and sepals of type 'float64' equivalent to 'float' and the variety type 'object' which would be 'string'."
   ]
  },
  {
   "cell_type": "code",
   "execution_count": 8,
   "metadata": {},
   "outputs": [
    {
     "data": {
      "text/plain": [
       "sepal.length    float64\n",
       "sepal.width     float64\n",
       "petal.length    float64\n",
       "petal.width     float64\n",
       "variety          object\n",
       "dtype: object"
      ]
     },
     "execution_count": 8,
     "metadata": {},
     "output_type": "execute_result"
    }
   ],
   "source": [
    "df.dtypes"
   ]
  },
  {
   "cell_type": "markdown",
   "metadata": {},
   "source": [
    "### Types of species, in total 3"
   ]
  },
  {
   "cell_type": "code",
   "execution_count": 9,
   "metadata": {
    "_cell_guid": "01bf7bd5-5512-4da1-88f2-986d0d246405",
    "_execution_state": "idle",
    "_uuid": "05502ca33fc73e5bac0a26385d4f476f9953f444",
    "cell_id": "3799024829384b3c9365d3cd8f61bf3f",
    "deepnote_cell_type": "code",
    "scrolled": true
   },
   "outputs": [
    {
     "name": "stdout",
     "output_type": "stream",
     "text": [
      "Types of species: ['Setosa', 'Versicolor', 'Virginica']\n",
      "\n"
     ]
    }
   ],
   "source": [
    "species_list = list(df[\"variety\"].unique())\n",
    "print(\"Types of species: %s\\n\" % species_list)\n"
   ]
  },
  {
   "cell_type": "markdown",
   "metadata": {},
   "source": [
    "## Using describe() and info()"
   ]
  },
  {
   "cell_type": "code",
   "execution_count": 10,
   "metadata": {},
   "outputs": [
    {
     "name": "stdout",
     "output_type": "stream",
     "text": [
      "Data description:\n",
      "-------------------------\n",
      "       sepal.length  sepal.width  petal.length  petal.width\n",
      "count    150.000000   150.000000    150.000000   150.000000\n",
      "mean       5.843333     3.057333      3.758000     1.199333\n",
      "std        0.828066     0.435866      1.765298     0.762238\n",
      "min        4.300000     2.000000      1.000000     0.100000\n",
      "25%        5.100000     2.800000      1.600000     0.300000\n",
      "50%        5.800000     3.000000      4.350000     1.300000\n",
      "75%        6.400000     3.300000      5.100000     1.800000\n",
      "max        7.900000     4.400000      6.900000     2.500000\n"
     ]
    }
   ],
   "source": [
    "# Checking the values of the columns, quantity, maximum, minimum, mean, \n",
    "# standard deviation and the three quartiles.\n",
    "# I can now say that I have a lot of information about the data.\n",
    "print(\"Data description:\\n-------------------------\")\n",
    "print(df.describe())"
   ]
  },
  {
   "cell_type": "code",
   "execution_count": 8,
   "metadata": {},
   "outputs": [
    {
     "name": "stdout",
     "output_type": "stream",
     "text": [
      "<class 'pandas.core.frame.DataFrame'>\n",
      "RangeIndex: 150 entries, 0 to 149\n",
      "Data columns (total 5 columns):\n",
      " #   Column        Non-Null Count  Dtype  \n",
      "---  ------        --------------  -----  \n",
      " 0   sepal.length  150 non-null    float64\n",
      " 1   sepal.width   150 non-null    float64\n",
      " 2   petal.length  150 non-null    float64\n",
      " 3   petal.width   150 non-null    float64\n",
      " 4   variety       150 non-null    object \n",
      "dtypes: float64(4), object(1)\n",
      "memory usage: 6.0+ KB\n"
     ]
    }
   ],
   "source": [
    "df.info()"
   ]
  },
  {
   "cell_type": "markdown",
   "metadata": {},
   "source": []
  },
  {
   "cell_type": "markdown",
   "metadata": {},
   "source": [
    "## Bibliographic search.\n",
    "## I thought about using gpt chat to see how well it explains and reasons, it's worth it.\n",
    "## Web link: https://openai.com/blog/chatgpt\n",
    "\n",
    "## Answer\n",
    "#### The iris dataset is one of the most famous and widely used datasets in machine learning and statistics. It was created by the British statistician and biologist Ronald Fisher in 1936.\n",
    "\n",
    "#### Fisher used the iris dataset in his paper \"The use of multiple measurements in taxonomic problems\", in which he used measurements of the length and width of the sepal and petal of three species of iris: Iris setosa, Iris versicolor and Iris virginica. Fisher compiled these measurements from an iris collection housed at the University of Cambridge Botanic Garden.\n",
    "#### The iris dataset has been widely used in teaching and research, as it is a classic example of a multi-class classification problem. Since its inception, the dataset has been used in numerous research and is a popular tool for teaching and learning machine learning and statistical techniques.\n",
    "#### In brief, the iris dataset was created by Ronald Fisher in 1936, using measurements of the length and width of the sepal and petal of three iris species. The dataset has been used extensively in teaching and research, and is a classic example of a multi-class classification problem.\n",
    "\n",
    "## It's pretty clear to me who created it and what it is used for, but the phrase \"The use of multiple medictions in taxonomic problems\" I don't understand so I ask again.\n",
    "\n",
    "### The use of multiple medictions in taxonomic problems.\n",
    "#### The use of multiple measurements in taxonomic problems is a paper published in 1936 by the British statistician and biologist Ronald Fisher. In this paper, Fisher presents a new way of analyzing data for the classification of plant species.\n",
    "#### Prior to the publication of this paper, species classification was based on the observation of morphological characteristics, such as leaf shape or flower arrangement. Fisher argued that the use of precise, quantitative measurements of various plant characteristics would allow for more objective and accurate classification.\n",
    "#### Fisher used the iris data set, which included measurements of sepal and petal length and width of three iris species: Iris setosa, Iris versicolor, and Iris virginica, to illustrate his method of data analysis. Fisher applied statistical analysis to identify the characteristics that best differentiate the different iris species.\n",
    "#### Fisher's work was revolutionary at the time and is considered a milestone in the application of statistical methods to the analysis of biological data. The iris data set, used in this paper, remains a classic example of a multi-class classification problem in the teaching of machine learning and statistical techniques.\n",
    "\n",
    "# After reading it I understand that it was a paper by Fisher published in 1936. I understand that Fisher and his study of the data with the iris dataset changed the way of analyzing data for class classification problems and taught the world something very valuable that is used today in sectors such as teaching for example.\n"
   ]
  },
  {
   "cell_type": "code",
   "execution_count": null,
   "metadata": {},
   "outputs": [],
   "source": []
  },
  {
   "cell_type": "markdown",
   "metadata": {},
   "source": [
    "# Visualizar la relación entre atributos. ¿Hay alguna relación que sea visualmente significativa? (Usando scatter-plot)."
   ]
  },
  {
   "cell_type": "markdown",
   "metadata": {},
   "source": [
    "### To visualize the relationship between the attributes of the Iris dataset, we can use a scatter-plot that shows two attributes at a time. We can create a scatter-plot for each pair of attributes and observe if there is any visually significant relationship. "
   ]
  },
  {
   "cell_type": "markdown",
   "metadata": {},
   "source": [
    "## SEPAL GRAPH, LENGTH VS. WIDTH"
   ]
  },
  {
   "cell_type": "code",
   "execution_count": 10,
   "metadata": {},
   "outputs": [
    {
     "data": {
      "image/png": "[encoded data removed]",
      "text/plain": [
       "<Figure size 432x288 with 1 Axes>"
      ]
     },
     "metadata": {
      "needs_background": "light"
     },
     "output_type": "display_data"
    }
   ],
   "source": [
    "fig = df[df.variety == 'Setosa'].plot(kind='scatter', x='sepal.length', y='sepal.width', color='blue', label='Setosa')\n",
    "df[df.variety == 'Versicolor'].plot(kind='scatter', x='sepal.length', y='sepal.width', color='green', label='Versicolor', ax=fig)\n",
    "df[df.variety == 'Virginica'].plot(kind='scatter', x='sepal.length', y='sepal.width', color='red', label='Virginica', ax=fig)\n",
    "\n",
    "fig.set_xlabel('Sepal - length')\n",
    "fig.set_ylabel('Sepal - width')\n",
    "fig.set_title('Sepal - length vs width')\n",
    "plt.show()"
   ]
  },
  {
   "cell_type": "markdown",
   "metadata": {},
   "source": [
    "### Conclusion: I can see how setosa is better differentiated than versicolor and virginica. In the case of the latter two it would be difficult to predict exactly the type. However, setosa is not 100% clear either. I think it would be a bad way to predict the flower type. \n",
    "\n",
    "### The values of setosa for its width are larger and its length smaller than the others."
   ]
  },
  {
   "cell_type": "markdown",
   "metadata": {},
   "source": [
    "## PETAL GRAPH, LENGTH VS. WIDTH"
   ]
  },
  {
   "cell_type": "code",
   "execution_count": 11,
   "metadata": {},
   "outputs": [
    {
     "data": {
      "image/png": "[encoded data removed]",
      "text/plain": [
       "<Figure size 432x288 with 1 Axes>"
      ]
     },
     "metadata": {
      "needs_background": "light"
     },
     "output_type": "display_data"
    }
   ],
   "source": [
    "fig = df[df.variety == 'Setosa'].plot(kind='scatter', x='petal.length', y='petal.width', color='blue', label='Setosa')\n",
    "df[df.variety == 'Versicolor'].plot(kind='scatter', x='petal.length', y='petal.width', color='green', label='Versicolor', ax=fig)\n",
    "df[df.variety == 'Virginica'].plot(kind='scatter', x='petal.length', y='petal.width', color='red', label='Virginica', ax=fig)\n",
    "\n",
    "fig.set_xlabel('Petal - length')\n",
    "fig.set_ylabel('Petal - width')\n",
    "fig.set_title('Petal length vs width')\n",
    "plt.show()"
   ]
  },
  {
   "cell_type": "markdown",
   "metadata": {},
   "source": [
    "### Conclusion: This graph seems to be one of the best, we can see that setosa is 100% reliable, with the width and length of its petal we can know that it is of the setosa type for sure. As for the other two varieties, they are still mixed, but less so. "
   ]
  },
  {
   "cell_type": "markdown",
   "metadata": {},
   "source": [
    "## GRÁFICO \"LARGO DEL SÉPALO\"  VS \"ANCHO DEL PÉTALO\""
   ]
  },
  {
   "cell_type": "code",
   "execution_count": 12,
   "metadata": {},
   "outputs": [
    {
     "data": {
      "image/png": "[encoded data removed]",
      "text/plain": [
       "<Figure size 432x288 with 1 Axes>"
      ]
     },
     "metadata": {
      "needs_background": "light"
     },
     "output_type": "display_data"
    }
   ],
   "source": [
    "fig = df[df.variety == 'Setosa'].plot(kind='scatter', x='sepal.length', y='petal.width', color='blue', label='Setosa')\n",
    "df[df.variety == 'Versicolor'].plot(kind='scatter', x='sepal.length', y='petal.width', color='green', label='Versicolor', ax=fig)\n",
    "df[df.variety == 'Virginica'].plot(kind='scatter', x='sepal.length', y='petal.width', color='red', label='Virginica', ax=fig)\n",
    "\n",
    "fig.set_xlabel('Sepal - length')\n",
    "fig.set_ylabel('Petal - width')\n",
    "fig.set_title('Sepal length vs Petal width')\n",
    "plt.show()"
   ]
  },
  {
   "cell_type": "markdown",
   "metadata": {},
   "source": [
    "### Conclusion: at first glance I can say that the setosa type is separated from the other two, but it is not as far away as the previous graph, however it seems a little better than the first graph I commented. In summary, the values of virginica and versicolor are mixed, and setosa is relatively close to the other two."
   ]
  },
  {
   "cell_type": "markdown",
   "metadata": {},
   "source": [
    "## GRAPH \"PETAL LENGTH\" VS \"SEPAL WIDTH\"."
   ]
  },
  {
   "cell_type": "code",
   "execution_count": 13,
   "metadata": {},
   "outputs": [
    {
     "data": {
      "image/png": "[encoded data removed]",
      "text/plain": [
       "<Figure size 432x288 with 1 Axes>"
      ]
     },
     "metadata": {
      "needs_background": "light"
     },
     "output_type": "display_data"
    }
   ],
   "source": [
    "fig = df[df.variety == 'Setosa'].plot(kind='scatter', x='petal.length', y='sepal.width', color='blue', label='Setosa')\n",
    "df[df.variety == 'Versicolor'].plot(kind='scatter', x='petal.length', y='sepal.width', color='green', label='Versicolor', ax=fig)\n",
    "df[df.variety == 'Virginica'].plot(kind='scatter', x='petal.length', y='sepal.width', color='red', label='Virginica', ax=fig)\n",
    "\n",
    "fig.set_xlabel('Petal - length')\n",
    "fig.set_ylabel('Sepal - width')\n",
    "fig.set_title('Petal length vs Sepal width')\n",
    "plt.show()"
   ]
  },
  {
   "cell_type": "markdown",
   "metadata": {},
   "source": [
    "### Conclusion: I see more of the same but this time it is again setosa very separated from the rest, although I think I see a point in the width of the sepal that is at the same height as the others, I think this rules out this graph as the best, taking into account that the second graph does not happen in this case. "
   ]
  },
  {
   "cell_type": "markdown",
   "metadata": {},
   "source": [
    "## GRAPH \"PETAL LENGTH\" VS \"SEPAL LENGTH\"."
   ]
  },
  {
   "cell_type": "code",
   "execution_count": 14,
   "metadata": {},
   "outputs": [
    {
     "data": {
      "image/png": "[encoded data removed]",
      "text/plain": [
       "<Figure size 432x288 with 1 Axes>"
      ]
     },
     "metadata": {
      "needs_background": "light"
     },
     "output_type": "display_data"
    }
   ],
   "source": [
    "fig = df[df.variety == 'Setosa'].plot(kind='scatter', x='petal.length', y='sepal.length', color='blue', label='Setosa')\n",
    "df[df.variety == 'Versicolor'].plot(kind='scatter', x='petal.length', y='sepal.length', color='green', label='Versicolor', ax=fig)\n",
    "df[df.variety == 'Virginica'].plot(kind='scatter', x='petal.length', y='sepal.length', color='red', label='Virginica', ax=fig)\n",
    "\n",
    "fig.set_xlabel('Petal - length')\n",
    "fig.set_ylabel('Sepal - length')\n",
    "fig.set_title('Petal length vs Sepal length')\n",
    "plt.show()"
   ]
  },
  {
   "cell_type": "markdown",
   "metadata": {},
   "source": [
    "### Conclusion: I think this chart mixes values and I do not think it is good but it is still clear the same as in the others. Setosa differs from the rest and virginica is the largest at times as it has equal measurements as versicolor in some cases. "
   ]
  },
  {
   "cell_type": "markdown",
   "metadata": {},
   "source": [
    "## GRAPH \"PETAL WIDTH\" VS \"SEPAL WIDTH\"."
   ]
  },
  {
   "cell_type": "code",
   "execution_count": 15,
   "metadata": {},
   "outputs": [
    {
     "data": {
      "image/png": "[encoded data removed]",
      "text/plain": [
       "<Figure size 432x288 with 1 Axes>"
      ]
     },
     "metadata": {
      "needs_background": "light"
     },
     "output_type": "display_data"
    }
   ],
   "source": [
    "fig = df[df.variety == 'Setosa'].plot(kind='scatter', x='petal.width', y='sepal.width', color='blue', label='Setosa')\n",
    "df[df.variety == 'Versicolor'].plot(kind='scatter', x='petal.width', y='sepal.width', color='green', label='Versicolor', ax=fig)\n",
    "df[df.variety == 'Virginica'].plot(kind='scatter', x='petal.width', y='sepal.width', color='red', label='Virginica', ax=fig)\n",
    "\n",
    "fig.set_xlabel('Petal - width')\n",
    "fig.set_ylabel('Sepal - width')\n",
    "fig.set_title('Petal width vs Sepal width')\n",
    "plt.show()"
   ]
  },
  {
   "cell_type": "markdown",
   "metadata": {},
   "source": [
    "### Conclusion: not to extend too much, it seems to me the same as the previous one."
   ]
  },
  {
   "cell_type": "markdown",
   "metadata": {},
   "source": [
    "### I also observed this:\n",
    "### Looking at the point measurements I think I understand that the setosa species is a small flower compared to the rest. Virginica is the largest but not always and this may confuse it with versicolor which is a flower? let's say of intermediate size compared to the others."
   ]
  },
  {
   "cell_type": "markdown",
   "metadata": {},
   "source": [
    "# Make a histogram of the input attributes and the target variable"
   ]
  },
  {
   "cell_type": "code",
   "execution_count": 16,
   "metadata": {},
   "outputs": [
    {
     "data": {
      "text/plain": [
       "array([0, 0, 0, 0, 0, 0, 0, 0, 0, 0, 0, 0, 0, 0, 0, 0, 0, 0, 0, 0, 0, 0,\n",
       "       0, 0, 0, 0, 0, 0, 0, 0, 0, 0, 0, 0, 0, 0, 0, 0, 0, 0, 0, 0, 0, 0,\n",
       "       0, 0, 0, 0, 0, 0, 1, 1, 1, 1, 1, 1, 1, 1, 1, 1, 1, 1, 1, 1, 1, 1,\n",
       "       1, 1, 1, 1, 1, 1, 1, 1, 1, 1, 1, 1, 1, 1, 1, 1, 1, 1, 1, 1, 1, 1,\n",
       "       1, 1, 1, 1, 1, 1, 1, 1, 1, 1, 1, 1, 2, 2, 2, 2, 2, 2, 2, 2, 2, 2,\n",
       "       2, 2, 2, 2, 2, 2, 2, 2, 2, 2, 2, 2, 2, 2, 2, 2, 2, 2, 2, 2, 2, 2,\n",
       "       2, 2, 2, 2, 2, 2, 2, 2, 2, 2, 2, 2, 2, 2, 2, 2, 2, 2])"
      ]
     },
     "execution_count": 16,
     "metadata": {},
     "output_type": "execute_result"
    }
   ],
   "source": [
    "# Replace the values of \"variety\" with numeric values\n",
    "df['variety'] = df['variety'].replace({'Setosa': 0, 'Versicolor': 1, 'Virginica': 2})\n",
    "\n",
    "df['variety'].values"
   ]
  },
  {
   "cell_type": "markdown",
   "metadata": {},
   "source": [
    "#### Histogram for each of the four input characteristics (sepal length, sepal width, petal length and petal width), as well as for the target variable (iris species). "
   ]
  },
  {
   "cell_type": "code",
   "execution_count": 18,
   "metadata": {},
   "outputs": [
    {
     "data": {
      "image/png": "[encoded data removed]",
      "text/plain": [
       "<Figure size 720x720 with 4 Axes>"
      ]
     },
     "metadata": {
      "needs_background": "light"
     },
     "output_type": "display_data"
    },
    {
     "data": {
      "image/png": "[encoded data removed]",
      "text/plain": [
       "<Figure size 432x288 with 1 Axes>"
      ]
     },
     "metadata": {
      "needs_background": "light"
     },
     "output_type": "display_data"
    }
   ],
   "source": [
    "# Create histograms for each attribute\n",
    "fig, axes = plt.subplots(nrows=2, ncols=2, figsize=(10, 10))\n",
    "ax0, ax1, ax2, ax3 = axes.flatten()\n",
    "\n",
    "ax0.hist(df.values[:, 0], bins=20, color='r', alpha=.5)\n",
    "ax0.set_title('Sepal Length')\n",
    "ax0.set_ylabel('Frequency')\n",
    "ax0.set_xlabel('Length (cm)')\n",
    "\n",
    "ax1.hist(df.values[:, 1], bins=20, color='g', alpha=.5)\n",
    "ax1.set_title('Sepal Width')\n",
    "ax1.set_ylabel('Frequency')\n",
    "ax1.set_xlabel('Width (cm)')\n",
    "\n",
    "ax2.hist(df.values[:, 2], bins=20, color='b', alpha=.5)\n",
    "ax2.set_title('Petal length')\n",
    "ax2.set_ylabel('Frequency')\n",
    "ax2.set_xlabel('Length (cm)')\n",
    "\n",
    "ax3.hist(df.values[:, 3], bins=20, color='y', alpha=.5)\n",
    "ax3.set_title('Petal with')\n",
    "ax3.set_ylabel('Frequency')\n",
    "ax3.set_xlabel('Width (cm)')\n",
    "\n",
    "# Create histogram for target variable\n",
    "fig, ax4 = plt.subplots()\n",
    "ax4.hist(df['variety'].values, bins=20, color='m', alpha=.5)\n",
    "ax4.set_title('Iris Species')\n",
    "ax4.set_ylabel('Frequency')\n",
    "ax4.set_xlabel('Species')\n",
    "ax4.set_xticks([0, 1, 2])\n",
    "ax4.set_xticklabels(species_list)\n",
    "\n",
    "plt.tight_layout()\n",
    "plt.show()\n"
   ]
  },
  {
   "cell_type": "markdown",
   "metadata": {},
   "source": [
    "### Conclusion:  \n",
    "\n",
    "    Sepal length:\n",
    "        - Shows that there are different data sets of different sizes, a lot of variety among different flowers, but that most flowers cluster into two distinct groups with different sepal lengths.\n",
    "        \n",
    "    Sepal width:\n",
    "        - Shows that most flowers have similar sepal width, indicating an element with common characteristics compared to sepal length where there is a lot of variability.\n",
    "        \n",
    "    Petal length:\n",
    "        - Shows that there is a great deal of variability in petal length among different flowers, but that most flowers cluster into two distinct groups with different petal lengths.\n",
    "        \n",
    "    Petal width;\n",
    "        - Shows that most flowers have similar petal width, indicating greater homogeneity compared to petal length.\n",
    "        \n",
    "    Iris species:\n",
    "        - It is a balanced dataset contains the same number of samples for each variety type.\n",
    "    "
   ]
  },
  {
   "cell_type": "code",
   "execution_count": null,
   "metadata": {},
   "outputs": [],
   "source": []
  },
  {
   "cell_type": "code",
   "execution_count": 26,
   "metadata": {},
   "outputs": [
    {
     "data": {
      "text/plain": [
       "0    50\n",
       "1    50\n",
       "2    50\n",
       "Name: variety, dtype: int64"
      ]
     },
     "execution_count": 26,
     "metadata": {},
     "output_type": "execute_result"
    }
   ],
   "source": [
    "df['variety'].value_counts()"
   ]
  },
  {
   "cell_type": "markdown",
   "metadata": {},
   "source": [
    "### It is a balanced dataset as it has the same number of samples for each flower variety. \n",
    "\n",
    "### This jupyter notebook is intended to help you understand how to examine a dataframe and also to understand the iris dataset in depth.\n",
    "\n",
    "### All this can be done in a simpler way using sckit-learn.\n",
    "\n",
    "## I hope you find it helpful"
   ]
  },
  {
   "cell_type": "code",
   "execution_count": null,
   "metadata": {},
   "outputs": [],
   "source": [
    "\n"
   ]
  }
 ],
 "metadata": {
  "deepnote": {},
  "deepnote_execution_queue": [],
  "deepnote_notebook_id": "b2ceb1e83ea340ac9e8e5e3f1c857253",
  "kernelspec": {
   "display_name": "Python 3 (ipykernel)",
   "language": "python",
   "name": "python3"
  },
  "language_info": {
   "codemirror_mode": {
    "name": "ipython",
    "version": 3
   },
   "file_extension": ".py",
   "mimetype": "text/x-python",
   "name": "python",
   "nbconvert_exporter": "python",
   "pygments_lexer": "ipython3",
   "version": "3.9.2"
  }
 },
 "nbformat": 4,
 "nbformat_minor": 4
}
